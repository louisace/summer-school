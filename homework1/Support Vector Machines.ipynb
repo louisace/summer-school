{
 "cells": [
  {
   "cell_type": "markdown",
   "metadata": {},
   "source": [
    "&ensp;&ensp;&ensp;&ensp;支持向量机是一个分类器，当然也可以用来做回归的。我们首先考虑一个二分类问题，数据用x来表示，是一个n维向量，类别用y表示，可以取1或者-1，分别代表着两个不同的类。一个线性分类器就是要在n维数据空间中找到一个超平面，使其将不同的两个类分开。其方程为：\n",
    "<center>$w^{T}x+b=0$</center>\n",
    "其中$w=(w_{1},w_{2},w_{3},...,w_{n})$为超平面的法向量，决定了超平面的方向；b为位移项，决定了超平面到原点之间的距离。我们将超平面记作$(w,b)$，那么样本空间中的任意一点到超平面的距离为：\n",
    "<center>r=$\\frac{|w^{T}x+b|}{||w||}$</center>\n",
    "假设超平面$(w,b)$能将训练样本正确分类，即对于$(x_{i},y_{i}) \\in D$，若$y_{i}=+1$，则有$w^{T}x_{i}+b>0$;若$y_{i}=-1$,则有$w^{T}x_{i}+b<0$\n",
    "此时令：\n",
    "<center>$\\left\\{\\begin{matrix}\n",
    " & w^{T}x_{i}+b \\geq +1 & y_{i}=+1 \\\\ \n",
    " & w^{T}x_{i}+b \\leq +1 & y_{i}=-1\n",
    "\\end{matrix}\\right.$</center>\n",
    "在训练样本中，其中距离超平面最近的几个样本能使上式等号成立，则这几个样本被称为“支持向量”，那么两个异类支持向量到超平面的距离为：\n",
    "<center>$r=\\frac{2}{||w||}$</center>\n",
    "此时的r被称为最大间隔\n",
    "<br \\>\n",
    "对于使用支持向量机进行分类，我们的目标就是寻找最大间隔的划分超平面，转化为数学模型的求解就是求解约束模型下的w，b，使得r最大。约束模型为：\n",
    "<center>$\\max \\limits_{w,b}\\frac{2}{||w||}$ &ensp;&ensp;&ensp; $s.t. y_{i}(w^{T}x_{i}+b)\\geq +1$,其中$i=1,2,3,...,n$</center>\n",
    "要使r最大，则等价于$||w||^{2}$最小，此时求解模型为：\n",
    "<center>$\\min \\limits_{w,b}||w||^{2}$ &ensp;&ensp;&ensp; $s.t. y_{i}(w^{T}x_{i}+b)\\geq +1$,其中$i=1,2,3,...,n$</center>"
   ]
  },
  {
   "cell_type": "code",
   "execution_count": null,
   "metadata": {},
   "outputs": [],
   "source": []
  }
 ],
 "metadata": {
  "kernelspec": {
   "display_name": "Python 3",
   "language": "python",
   "name": "python3"
  },
  "language_info": {
   "codemirror_mode": {
    "name": "ipython",
    "version": 3
   },
   "file_extension": ".py",
   "mimetype": "text/x-python",
   "name": "python",
   "nbconvert_exporter": "python",
   "pygments_lexer": "ipython3",
   "version": "3.6.6"
  }
 },
 "nbformat": 4,
 "nbformat_minor": 2
}
