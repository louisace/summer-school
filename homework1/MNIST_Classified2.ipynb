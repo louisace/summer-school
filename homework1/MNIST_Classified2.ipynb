{
 "cells": [
  {
   "cell_type": "markdown",
   "metadata": {},
   "source": [
    "使用MNIST数据集的灰度直方图作为特征，使用LogisticRegression，decisionTree，SVM模型分别对数据集分类并查看测试集的评分"
   ]
  },
  {
   "cell_type": "code",
   "execution_count": 72,
   "metadata": {},
   "outputs": [
    {
     "name": "stderr",
     "output_type": "stream",
     "text": [
      "D:\\Anaconda3\\lib\\site-packages\\sklearn\\utils\\deprecation.py:77: DeprecationWarning: Function fetch_mldata is deprecated; fetch_mldata was deprecated in version 0.20 and will be removed in version 0.22\n",
      "  warnings.warn(msg, category=DeprecationWarning)\n",
      "D:\\Anaconda3\\lib\\site-packages\\sklearn\\utils\\deprecation.py:77: DeprecationWarning: Function mldata_filename is deprecated; mldata_filename was deprecated in version 0.20 and will be removed in version 0.22\n",
      "  warnings.warn(msg, category=DeprecationWarning)\n"
     ]
    }
   ],
   "source": [
    "import numpy as np\n",
    "import sklearn\n",
    "from sklearn.datasets import fetch_mldata\n",
    "import pandas as pd\n",
    "import matplotlib.pyplot as plt\n",
    "from sklearn.model_selection import train_test_split\n",
    "from sklearn import tree\n",
    "from sklearn.linear_model import LogisticRegression\n",
    "from sklearn import metrics\n",
    "from sklearn.model_selection import learning_curve\n",
    "from sklearn.svm import LinearSVC\n",
    "from sklearn import svm\n",
    "import random\n",
    "\n",
    "mnist = fetch_mldata('MNIST-original', data_home='./dataSet')"
   ]
  },
  {
   "cell_type": "code",
   "execution_count": 73,
   "metadata": {},
   "outputs": [],
   "source": [
    "x, y = mnist['data'], mnist['target']"
   ]
  },
  {
   "cell_type": "code",
   "execution_count": 74,
   "metadata": {},
   "outputs": [
    {
     "name": "stdout",
     "output_type": "stream",
     "text": [
      "(70000, 784)\n",
      "(70000,)\n"
     ]
    }
   ],
   "source": [
    "print(x.shape)\n",
    "print(y.shape)"
   ]
  },
  {
   "cell_type": "code",
   "execution_count": 110,
   "metadata": {},
   "outputs": [],
   "source": [
    "train_img, test_img, train_label, test_label = train_test_split(x, y, test_size=1/7.0, shuffle=True)"
   ]
  },
  {
   "cell_type": "code",
   "execution_count": 111,
   "metadata": {},
   "outputs": [
    {
     "name": "stdout",
     "output_type": "stream",
     "text": [
      "(60000, 784)\n",
      "(60000,)\n"
     ]
    }
   ],
   "source": [
    "print(train_img.shape)\n",
    "print(train_label.shape)"
   ]
  },
  {
   "cell_type": "code",
   "execution_count": 112,
   "metadata": {
    "collapsed": true
   },
   "outputs": [
    {
     "data": {
      "text/plain": [
       "array([[  0,   0,   0,   0,   0,   0,   0,   0,   0,   0,   0,   0,   0,\n",
       "          0,   0,   0,   0,   0,   0,   0,   0,   0,   0,   0,   0,   0,\n",
       "          0,   0],\n",
       "       [  0,   0,   0,   0,   0,   0,   0,   0,   0,   0,   0,   0,   0,\n",
       "          0,   0,   0,   0,   0,   0,   0,   0,   0,   0,   0,   0,   0,\n",
       "          0,   0],\n",
       "       [  0,   0,   0,   0,   0,   0,   0,   0,   0,   0,   0,   0,   0,\n",
       "          0,   0,   0,   0,   0,   0,   0,   0,   0,   0,   0,   0,   0,\n",
       "          0,   0],\n",
       "       [  0,   0,   0,   0,   0,   0,   0,   0,   0,   0,   0,   0,   0,\n",
       "          0,   0,   0,   0,   0,   0,   0,   0,   0,   0,   0,   0,   0,\n",
       "          0,   0],\n",
       "       [  0,   0,   0,   0,   0,   0,   0,   0,   0,   0,  14, 254, 195,\n",
       "        118, 118,  32,   0,   0,   0,   0,   0,   0,   0,   0,   0,   0,\n",
       "          0,   0],\n",
       "       [  0,   0,   0,   0,   0,   0,   0,   0,   0,  14, 179, 253, 253,\n",
       "        253, 253, 239, 234, 153,   0,   0,   0,   0,   0,   0,   0,   0,\n",
       "          0,   0],\n",
       "       [  0,   0,   0,   0,   0,   0,   0,   0,   0,  76, 253, 253, 253,\n",
       "        253, 253, 253, 253, 252, 110,   0,   0,   0,   0,   0,   0,   0,\n",
       "          0,   0],\n",
       "       [  0,   0,   0,   0,   0,   0,   0,   0,  12, 189, 253, 253, 193,\n",
       "         67,  99, 198, 234, 253, 223, 136,  38,   0,   0,   0,   0,   0,\n",
       "          0,   0],\n",
       "       [  0,   0,   0,   0,   0,   0,   0,  11, 157, 253, 253, 253, 238,\n",
       "         23,   0,   0, 146, 253, 253, 253, 227,  37,   0,   0,   0,   0,\n",
       "          0,   0],\n",
       "       [  0,   0,   0,   0,   0,   0,   6, 160, 253, 253, 253, 175,  58,\n",
       "          0,   0,   0,  12, 180, 246, 253, 253, 139,   5,   0,   0,   0,\n",
       "          0,   0],\n",
       "       [  0,   0,   0,   0,   0,   0,  97, 253, 253, 253, 253, 123,   0,\n",
       "          0,   0,   0,   0,   0,  61, 247, 253, 253,  75,   0,   0,   0,\n",
       "          0,   0],\n",
       "       [  0,   0,   0,   0,   0,   0, 156, 253, 253, 253, 180,   3,   0,\n",
       "          0,   0,   0,   0,   0,   0, 181, 253, 253, 209,   0,   0,   0,\n",
       "          0,   0],\n",
       "       [  0,   0,   0,   0,   0,  42, 241, 253, 253, 222,  11,   0,   0,\n",
       "          0,   0,   0,   0,   0,   0,  67, 241, 253, 226,  34,   0,   0,\n",
       "          0,   0],\n",
       "       [  0,   0,   0,   0,   0, 118, 253, 253, 253, 181,   0,   0,   0,\n",
       "          0,   0,   0,   0,   0,   0,   0, 183, 253, 253, 132,   0,   0,\n",
       "          0,   0],\n",
       "       [  0,   0,   0,   0,   0, 218, 253, 253, 253,  82,   0,   0,   0,\n",
       "          0,   0,   0,   0,   0,   0,   0,  23, 214, 253, 248,  85,   0,\n",
       "          0,   0],\n",
       "       [  0,   0,   0,   0,   0, 254, 253, 253, 202,  29,   0,   0,   0,\n",
       "          0,   0,   0,   0,   0,   0,   0,   0, 199, 253, 253, 116,   0,\n",
       "          0,   0],\n",
       "       [  0,   0,   0,   0,   0, 254, 253, 253, 140,   3,   0,   0,   0,\n",
       "          0,   0,   0,   0,   0,   0,   0,   0, 196, 253, 253, 194,   0,\n",
       "          0,   0],\n",
       "       [  0,   0,   0,   0,   0, 254, 253, 253, 253,  82,   0,   0,   0,\n",
       "          0,   0,   0,   0,   0,   0,   0,   0,  63, 253, 253, 253,   0,\n",
       "          0,   0],\n",
       "       [  0,   0,   0,   0,   0,  77, 245, 253, 253, 226,  42,   0,   0,\n",
       "          0,   0,   0,   0,   0,   0,   0,   0, 193, 253, 253, 123,   0,\n",
       "          0,   0],\n",
       "       [  0,   0,   0,   0,   0,   0, 234, 253, 253, 253, 103,  43,  47,\n",
       "          0,   0,   0,   0,  48,  83, 138, 145, 246, 253, 246,  79,   0,\n",
       "          0,   0],\n",
       "       [  0,   0,   0,   0,   0,   0, 126, 253, 253, 253, 221, 227, 230,\n",
       "        199, 199, 199, 199, 230, 253, 253, 253, 253, 243, 102,   0,   0,\n",
       "          0,   0],\n",
       "       [  0,   0,   0,   0,   0,   0,  29, 116, 243, 253, 253, 253, 253,\n",
       "        253, 253, 253, 253, 253, 253, 253, 253, 221, 103,   0,   0,   0,\n",
       "          0,   0],\n",
       "       [  0,   0,   0,   0,   0,   0,   0,   0, 103, 235, 253, 253, 253,\n",
       "        253, 253, 253, 253, 253, 253, 233, 114,  21,   0,   0,   0,   0,\n",
       "          0,   0],\n",
       "       [  0,   0,   0,   0,   0,   0,   0,   0,   0,  16, 116, 116, 116,\n",
       "        239, 178, 253, 163, 116, 116,   6,   0,   0,   0,   0,   0,   0,\n",
       "          0,   0],\n",
       "       [  0,   0,   0,   0,   0,   0,   0,   0,   0,   0,   0,   0,   0,\n",
       "          0,   0,   0,   0,   0,   0,   0,   0,   0,   0,   0,   0,   0,\n",
       "          0,   0],\n",
       "       [  0,   0,   0,   0,   0,   0,   0,   0,   0,   0,   0,   0,   0,\n",
       "          0,   0,   0,   0,   0,   0,   0,   0,   0,   0,   0,   0,   0,\n",
       "          0,   0],\n",
       "       [  0,   0,   0,   0,   0,   0,   0,   0,   0,   0,   0,   0,   0,\n",
       "          0,   0,   0,   0,   0,   0,   0,   0,   0,   0,   0,   0,   0,\n",
       "          0,   0],\n",
       "       [  0,   0,   0,   0,   0,   0,   0,   0,   0,   0,   0,   0,   0,\n",
       "          0,   0,   0,   0,   0,   0,   0,   0,   0,   0,   0,   0,   0,\n",
       "          0,   0]], dtype=uint8)"
      ]
     },
     "execution_count": 112,
     "metadata": {},
     "output_type": "execute_result"
    }
   ],
   "source": [
    "train_img[0,:].reshape(28, 28)"
   ]
  },
  {
   "cell_type": "code",
   "execution_count": 113,
   "metadata": {},
   "outputs": [
    {
     "data": {
      "text/plain": [
       "array([[556.,   0.,   0., ...,   0.,   0.,   0.],\n",
       "       [637.,   0.,   0., ...,   0.,   0.,   0.],\n",
       "       [639.,   0.,   0., ...,   0.,   0.,   0.],\n",
       "       ...,\n",
       "       [579.,   1.,   0., ...,   0.,   0.,   0.],\n",
       "       [628.,   0.,   1., ...,   0.,   0.,   0.],\n",
       "       [665.,   1.,   3., ...,   0.,   0.,   0.]])"
      ]
     },
     "execution_count": 113,
     "metadata": {},
     "output_type": "execute_result"
    }
   ],
   "source": [
    "train_fea = np.zeros(train_img.shape)\n",
    "for i in range(len(train_img)):\n",
    "    for j in range(0, 256):\n",
    "        count = (train_img[i,:] == j).sum()\n",
    "        train_fea[i,j] = count\n",
    "train_fea"
   ]
  },
  {
   "cell_type": "code",
   "execution_count": 114,
   "metadata": {},
   "outputs": [
    {
     "data": {
      "text/plain": [
       "array([784., 784., 784., ..., 784., 784., 784.])"
      ]
     },
     "execution_count": 114,
     "metadata": {},
     "output_type": "execute_result"
    }
   ],
   "source": [
    "np.sum(train_fea, axis=1)"
   ]
  },
  {
   "cell_type": "code",
   "execution_count": 115,
   "metadata": {},
   "outputs": [
    {
     "data": {
      "text/plain": [
       "array([[556.,   0.,   0., ...,   0.,   0.,   0.],\n",
       "       [637.,   0.,   0., ...,   0.,   0.,   0.],\n",
       "       [639.,   0.,   0., ...,   0.,   0.,   0.],\n",
       "       ...,\n",
       "       [579.,   1.,   0., ...,   0.,   0.,   0.],\n",
       "       [653.,   0.,   0., ...,   0.,   0.,   0.],\n",
       "       [640.,   2.,   0., ...,   0.,   0.,   0.]])"
      ]
     },
     "execution_count": 115,
     "metadata": {},
     "output_type": "execute_result"
    }
   ],
   "source": [
    "test_fea = np.zeros(test_img.shape)\n",
    "for i in range(0, len(test_img)):\n",
    "    for j in range(0, 256):\n",
    "        count = (train_img[i,:] == j).sum()\n",
    "        test_fea[i,j] = count\n",
    "test_fea"
   ]
  },
  {
   "cell_type": "code",
   "execution_count": 116,
   "metadata": {},
   "outputs": [
    {
     "data": {
      "text/plain": [
       "array([784., 784., 784., ..., 784., 784., 784.])"
      ]
     },
     "execution_count": 116,
     "metadata": {},
     "output_type": "execute_result"
    }
   ],
   "source": [
    "np.sum(test_fea, axis=1)"
   ]
  },
  {
   "cell_type": "code",
   "execution_count": 117,
   "metadata": {},
   "outputs": [],
   "source": [
    "# LogisticRegression\n",
    "clf = LogisticRegression()"
   ]
  },
  {
   "cell_type": "code",
   "execution_count": 118,
   "metadata": {},
   "outputs": [
    {
     "name": "stderr",
     "output_type": "stream",
     "text": [
      "D:\\Anaconda3\\lib\\site-packages\\sklearn\\linear_model\\logistic.py:432: FutureWarning: Default solver will be changed to 'lbfgs' in 0.22. Specify a solver to silence this warning.\n",
      "  FutureWarning)\n",
      "D:\\Anaconda3\\lib\\site-packages\\sklearn\\linear_model\\logistic.py:459: FutureWarning: Default multi_class will be changed to 'auto' in 0.22. Specify the multi_class option to silence this warning.\n",
      "  \"this warning.\", FutureWarning)\n"
     ]
    },
    {
     "data": {
      "text/plain": [
       "LogisticRegression(C=1.0, class_weight=None, dual=False, fit_intercept=True,\n",
       "          intercept_scaling=1, max_iter=100, multi_class='warn',\n",
       "          n_jobs=None, penalty='l2', random_state=None, solver='warn',\n",
       "          tol=0.0001, verbose=0, warm_start=False)"
      ]
     },
     "execution_count": 118,
     "metadata": {},
     "output_type": "execute_result"
    }
   ],
   "source": [
    "clf.fit(train_fea, train_label)"
   ]
  },
  {
   "cell_type": "code",
   "execution_count": 119,
   "metadata": {},
   "outputs": [],
   "source": [
    "pre = clf.predict(test_fea)"
   ]
  },
  {
   "cell_type": "code",
   "execution_count": 120,
   "metadata": {},
   "outputs": [
    {
     "name": "stdout",
     "output_type": "stream",
     "text": [
      "acc:10.03 %\n"
     ]
    }
   ],
   "source": [
    "acc = metrics.accuracy_score(pre, test_label)\n",
    "print('acc:%.2f %%' %(100 * acc))"
   ]
  },
  {
   "cell_type": "code",
   "execution_count": 121,
   "metadata": {},
   "outputs": [],
   "source": [
    "#  Decision Tree\n",
    "clf2 = tree.DecisionTreeClassifier()"
   ]
  },
  {
   "cell_type": "code",
   "execution_count": 122,
   "metadata": {},
   "outputs": [
    {
     "data": {
      "text/plain": [
       "DecisionTreeClassifier(class_weight=None, criterion='gini', max_depth=None,\n",
       "            max_features=None, max_leaf_nodes=None,\n",
       "            min_impurity_decrease=0.0, min_impurity_split=None,\n",
       "            min_samples_leaf=1, min_samples_split=2,\n",
       "            min_weight_fraction_leaf=0.0, presort=False, random_state=None,\n",
       "            splitter='best')"
      ]
     },
     "execution_count": 122,
     "metadata": {},
     "output_type": "execute_result"
    }
   ],
   "source": [
    "clf2.fit(train_fea, train_label)"
   ]
  },
  {
   "cell_type": "code",
   "execution_count": 124,
   "metadata": {},
   "outputs": [
    {
     "name": "stdout",
     "output_type": "stream",
     "text": [
      "acc:9.80%\n"
     ]
    }
   ],
   "source": [
    "pre = clf2.predict(test_fea)\n",
    "acc = metrics.accuracy_score(pre, test_label)\n",
    "print('acc:%.2f%%'%(100 * acc))"
   ]
  },
  {
   "cell_type": "code",
   "execution_count": 125,
   "metadata": {},
   "outputs": [],
   "source": [
    "clf3 = LinearSVC(C=1.0)"
   ]
  },
  {
   "cell_type": "code",
   "execution_count": 126,
   "metadata": {},
   "outputs": [
    {
     "name": "stderr",
     "output_type": "stream",
     "text": [
      "D:\\Anaconda3\\lib\\site-packages\\sklearn\\svm\\base.py:922: ConvergenceWarning: Liblinear failed to converge, increase the number of iterations.\n",
      "  \"the number of iterations.\", ConvergenceWarning)\n"
     ]
    },
    {
     "data": {
      "text/plain": [
       "LinearSVC(C=1.0, class_weight=None, dual=True, fit_intercept=True,\n",
       "     intercept_scaling=1, loss='squared_hinge', max_iter=1000,\n",
       "     multi_class='ovr', penalty='l2', random_state=None, tol=0.0001,\n",
       "     verbose=0)"
      ]
     },
     "execution_count": 126,
     "metadata": {},
     "output_type": "execute_result"
    }
   ],
   "source": [
    "clf3.fit(train_fea, train_label)"
   ]
  },
  {
   "cell_type": "code",
   "execution_count": 127,
   "metadata": {},
   "outputs": [
    {
     "name": "stdout",
     "output_type": "stream",
     "text": [
      "acc:9.56%\n"
     ]
    }
   ],
   "source": [
    "pre = clf3.predict(test_fea)\n",
    "acc = metrics.accuracy_score(pre, test_label)\n",
    "print('acc:%.2f%%'%(100 * acc))"
   ]
  },
  {
   "cell_type": "code",
   "execution_count": null,
   "metadata": {},
   "outputs": [],
   "source": []
  }
 ],
 "metadata": {
  "kernelspec": {
   "display_name": "Python 3",
   "language": "python",
   "name": "python3"
  },
  "language_info": {
   "codemirror_mode": {
    "name": "ipython",
    "version": 3
   },
   "file_extension": ".py",
   "mimetype": "text/x-python",
   "name": "python",
   "nbconvert_exporter": "python",
   "pygments_lexer": "ipython3",
   "version": "3.6.6"
  }
 },
 "nbformat": 4,
 "nbformat_minor": 2
}
